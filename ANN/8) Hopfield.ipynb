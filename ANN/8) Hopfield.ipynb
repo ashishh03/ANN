{
 "cells": [
  {
   "cell_type": "code",
   "execution_count": 4,
   "metadata": {},
   "outputs": [
    {
     "name": "stdout",
     "output_type": "stream",
     "text": [
      "Pattern: [1, -1, 1, -1]\n",
      "Recalled pattern: [ 1. -1.  1. -1.]\n",
      "Pattern: [-1, 1, -1, 1]\n",
      "Recalled pattern: [-1.  1. -1.  1.]\n",
      "Pattern: [1, 1, -1, -1]\n",
      "Recalled pattern: [ 1.  1. -1. -1.]\n",
      "Pattern: [-1, -1, 1, 1]\n",
      "Recalled pattern: [-1. -1.  1.  1.]\n"
     ]
    }
   ],
   "source": [
    "import numpy as np\n",
    "\n",
    "class HopfieldNetwork:\n",
    "    def __init__(self, num_neurons):\n",
    "        self.num_neurons = num_neurons   #initializes the network with a given number of neurons\n",
    "        self.weights = np.zeros((num_neurons, num_neurons)) #creates a weights matrix\n",
    "\n",
    "    def train(self, patterns):#To train the Hopfield network.\n",
    "        for pattern in patterns:\n",
    "            pattern = np.array(pattern)\n",
    "            outer_product = np.outer(pattern, pattern)\n",
    "            np.fill_diagonal(outer_product, 0)\n",
    "            self.weights += outer_product\n",
    "\n",
    "    def recall(self, pattern, max_iter=100): # used to recall a pattern from the trained network\n",
    "        pattern = np.array(pattern)\n",
    "        for _ in range(max_iter):\n",
    "            new_pattern = np.sign(np.dot(self.weights, pattern)) #Computes the new pattern by taking the sign of the dot product of the weights matrix and the current pattern.\n",
    "            if np.array_equal(new_pattern, pattern):\n",
    "                return new_pattern\n",
    "            pattern = new_pattern\n",
    "        print(\"Recall failed to converge.\")\n",
    "        return pattern\n",
    "\n",
    "if __name__ == \"__main__\":\n",
    "    # Define the patterns\n",
    "    patterns = [[1, -1, 1, -1], [-1, 1, -1, 1], [1, 1, -1, -1], [-1, -1, 1, 1]]\n",
    "\n",
    "    # Create a Hopfield network\n",
    "    hopfield_net = HopfieldNetwork(num_neurons=len(patterns[0]))\n",
    "\n",
    "    # Train the network\n",
    "    hopfield_net.train(patterns)\n",
    "\n",
    "    # Test recalling patterns\n",
    "    test_patterns = [[1, -1, 1, -1], [-1, 1, -1, 1], [1, 1, -1, -1], [-1, -1, 1, 1]]\n",
    "    for pattern in test_patterns:\n",
    "        recalled_pattern = hopfield_net.recall(pattern)\n",
    "        print(\"Pattern:\", pattern)\n",
    "        print(\"Recalled pattern:\", recalled_pattern)\n"
   ]
  },
  {
   "cell_type": "code",
   "execution_count": 2,
   "metadata": {},
   "outputs": [],
   "source": [
    "import numpy as np"
   ]
  },
  {
   "cell_type": "code",
   "execution_count": 3,
   "metadata": {},
   "outputs": [
    {
     "name": "stdout",
     "output_type": "stream",
     "text": [
      "Pattern: [1, -1, 1, -1]\n",
      "Recalled pattern: [ 1. -1.  1. -1.]\n",
      "Pattern: [-1, 1, -1, 1]\n",
      "Recalled pattern: [-1.  1. -1.  1.]\n",
      "Pattern: [1, 1, -1, -1]\n",
      "Recalled pattern: [ 1.  1. -1. -1.]\n",
      "Pattern: [-1, -1, 1, 1]\n",
      "Recalled pattern: [-1. -1.  1.  1.]\n"
     ]
    }
   ],
   "source": [
    "class Hop:\n",
    "    def __init__(self,num_neurons):\n",
    "        self.num_neurons=num_neurons\n",
    "        self.weights=np.zeros((num_neurons,num_neurons))\n",
    "    def train(self,patterns):\n",
    "        for pattern in patterns:\n",
    "            pattern=np.array(pattern)\n",
    "            outer_product=np.outer(pattern,pattern)\n",
    "            np.fill_diagonal(outer_product,0)\n",
    "            self.weights+=outer_product\n",
    "    def recall(self,pattern,max_iter=100):\n",
    "        pattern=np.array(pattern)\n",
    "        for _ in range(max_iter):\n",
    "            new_pattern=np.sign(np.dot(self.weights,pattern))\n",
    "            if np.array_equal(pattern,new_pattern):\n",
    "                return new_pattern\n",
    "            else:\n",
    "                pattern=new_pattern\n",
    "        return pattern  \n",
    "\n",
    "if __name__ == \"__main__\":\n",
    "    patterns=[[1, -1, 1, -1], [-1, 1, -1, 1], [1, 1, -1, -1], [-1, -1, 1, 1]]\n",
    "    H=Hop(num_neurons=len(patterns[0]))\n",
    "    H.train(patterns)\n",
    "    test_patterns = [[1, -1, 1, -1], [-1, 1, -1, 1], [1, 1, -1, -1], [-1, -1, 1, 1]]\n",
    "    for pattern in test_patterns:\n",
    "        recalled_pattern = H.recall(pattern)\n",
    "        print(\"Pattern:\", pattern)\n",
    "        print(\"Recalled pattern:\", recalled_pattern)\n",
    "\n"
   ]
  },
  {
   "cell_type": "code",
   "execution_count": null,
   "metadata": {},
   "outputs": [],
   "source": []
  }
 ],
 "metadata": {
  "kernelspec": {
   "display_name": "Python 3 (ipykernel)",
   "language": "python",
   "name": "python3"
  },
  "language_info": {
   "codemirror_mode": {
    "name": "ipython",
    "version": 3
   },
   "file_extension": ".py",
   "mimetype": "text/x-python",
   "name": "python",
   "nbconvert_exporter": "python",
   "pygments_lexer": "ipython3",
   "version": "3.9.13"
  }
 },
 "nbformat": 4,
 "nbformat_minor": 2
}
