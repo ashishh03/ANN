{
 "cells": [
  {
   "cell_type": "code",
   "execution_count": 252,
   "id": "676f4ea7-ee37-43d4-af12-b8189f9a408c",
   "metadata": {},
   "outputs": [],
   "source": [
    "import numpy as np\n",
    "\n",
    "class ANN:\n",
    "    def __init__(self,input_size,hidden_layers,hidden_neurons,output_size,learning_rate):\n",
    "        self.weights=[]\n",
    "        self.bias=[]\n",
    "        self.hidden_layers=hidden_layers\n",
    "        self.learning_rate=learning_rate;\n",
    "        \n",
    "        for i in range(hidden_layers+1):\n",
    "            if i==0:\n",
    "                self.weights.append(np.random.randn(hidden_neurons,input_size))\n",
    "                self.bias.append(np.full((hidden_neurons,1),1))\n",
    "            elif i==hidden_layers:\n",
    "                self.weights.append(np.random.randn(output_size,hidden_neurons))\n",
    "                self.bias.append(np.full((output_size,1),1))\n",
    "            else:\n",
    "                self.weights.append(np.random.randn(hidden_neurons,hidden_neurons))\n",
    "                self.bias.append(np.full((hidden_neurons,1),1))\n",
    "                \n",
    "    def sigmoid(self, x):\n",
    "        return 1 / (1 + np.exp(-x))\n",
    "\n",
    "    def first_order_sigmoid(self, x):\n",
    "        return self.sigmoid(x) * (1 - self.sigmoid(x))\n",
    "            \n",
    "    def forward(self,x):\n",
    "        activations=[]\n",
    "        activations.append(x)\n",
    "        for i in range(self.hidden_layers+1):\n",
    "            x=np.dot(self.weights[i],activations[i])+self.bias[i]\n",
    "            activations.append(self.sigmoid(x))\n",
    "        return activations\n",
    "\n",
    "    def backward(self,activations,di,m):\n",
    "        delta=(activations[-1]-di.T) * self.first_order_sigmoid(np.dot(self.weights[-1],activations[-2])+self.bias[-1])\n",
    "        for i in range(self.hidden_layers,-1,-1):\n",
    "            if i==self.hidden_layers:\n",
    "                prev=np.array(self.weights[i])\n",
    "                self.weights[i]=self.weights[i]-(self.learning_rate/m) * np.dot(delta,activations[i].T)\n",
    "                self.bias[i]=self.bias[i]-(self.learning_rate/m) * np.sum(delta,axis=1,keepdims=True)\n",
    "            else:\n",
    "                delta=np.dot(prev.T, delta) * self.first_order_sigmoid(np.dot(self.weights[i], activations[i])+self.bias[i])\n",
    "                prev=np.array(self.weights[i])\n",
    "                self.weights[i]=self.weights[i]-(self.learning_rate/m) * np.dot(delta,activations[i].T)\n",
    "                self.bias[i]=self.bias[i]-(self.learning_rate/m) * np.sum(delta,axis=1,keepdims=True)\n",
    "            \n",
    "    def train(self,x,y,epochs):\n",
    "        for i in range(epochs):\n",
    "            activations=self.forward(x)\n",
    "            m=x.shape[1]\n",
    "            self.backward(activations,y,m)\n",
    "            if(i%1000==0):\n",
    "                print(\"Error at %d epoch : \"%(i),np.sum(activations[-1]-y.T))\n",
    "            \n",
    "    def predict(self,x):\n",
    "        predictions=[]\n",
    "        for input in x:\n",
    "            prediction = self.forward(np.array(input))\n",
    "            predictions.append(prediction[-1])\n",
    "        return predictions\n",
    "        "
   ]
  },
  {
   "cell_type": "code",
   "execution_count": 253,
   "id": "f93d18a6-7500-4d2b-8f77-6b80dccede2e",
   "metadata": {},
   "outputs": [],
   "source": [
    "input_size=4\n",
    "hidden_layers=2\n",
    "neurons_in_hidden_layer=5\n",
    "output_size=3\n",
    "learning_rate=0.1\n",
    "\n",
    "model=ANN(input_size,hidden_layers,neurons_in_hidden_layer,output_size,learning_rate)"
   ]
  },
  {
   "cell_type": "code",
   "execution_count": 1,
   "id": "162f535e-affe-422c-978a-917ad10eb431",
   "metadata": {},
   "outputs": [
    {
     "ename": "FileNotFoundError",
     "evalue": "[Errno 2] No such file or directory: 'Iris.csv'",
     "output_type": "error",
     "traceback": [
      "\u001b[1;31m---------------------------------------------------------------------------\u001b[0m",
      "\u001b[1;31mFileNotFoundError\u001b[0m                         Traceback (most recent call last)",
      "Cell \u001b[1;32mIn[1], line 3\u001b[0m\n\u001b[0;32m      1\u001b[0m \u001b[38;5;28;01mimport\u001b[39;00m \u001b[38;5;21;01mpandas\u001b[39;00m \u001b[38;5;28;01mas\u001b[39;00m \u001b[38;5;21;01mpd\u001b[39;00m\n\u001b[1;32m----> 3\u001b[0m df\u001b[38;5;241m=\u001b[39mpd\u001b[38;5;241m.\u001b[39mread_csv(\u001b[38;5;124m'\u001b[39m\u001b[38;5;124mIris.csv\u001b[39m\u001b[38;5;124m'\u001b[39m)\n\u001b[0;32m      5\u001b[0m x \u001b[38;5;241m=\u001b[39m df\u001b[38;5;241m.\u001b[39mdrop([\u001b[38;5;124m'\u001b[39m\u001b[38;5;124mId\u001b[39m\u001b[38;5;124m'\u001b[39m,\u001b[38;5;124m'\u001b[39m\u001b[38;5;124mSpecies\u001b[39m\u001b[38;5;124m'\u001b[39m], axis\u001b[38;5;241m=\u001b[39m\u001b[38;5;241m1\u001b[39m)\n\u001b[0;32m      6\u001b[0m y\u001b[38;5;241m=\u001b[39mdf[\u001b[38;5;124m'\u001b[39m\u001b[38;5;124mSpecies\u001b[39m\u001b[38;5;124m'\u001b[39m]\n",
      "File \u001b[1;32mc:\\ProgramData\\Anaconda3\\Lib\\site-packages\\pandas\\io\\parsers\\readers.py:948\u001b[0m, in \u001b[0;36mread_csv\u001b[1;34m(filepath_or_buffer, sep, delimiter, header, names, index_col, usecols, dtype, engine, converters, true_values, false_values, skipinitialspace, skiprows, skipfooter, nrows, na_values, keep_default_na, na_filter, verbose, skip_blank_lines, parse_dates, infer_datetime_format, keep_date_col, date_parser, date_format, dayfirst, cache_dates, iterator, chunksize, compression, thousands, decimal, lineterminator, quotechar, quoting, doublequote, escapechar, comment, encoding, encoding_errors, dialect, on_bad_lines, delim_whitespace, low_memory, memory_map, float_precision, storage_options, dtype_backend)\u001b[0m\n\u001b[0;32m    935\u001b[0m kwds_defaults \u001b[38;5;241m=\u001b[39m _refine_defaults_read(\n\u001b[0;32m    936\u001b[0m     dialect,\n\u001b[0;32m    937\u001b[0m     delimiter,\n\u001b[1;32m   (...)\u001b[0m\n\u001b[0;32m    944\u001b[0m     dtype_backend\u001b[38;5;241m=\u001b[39mdtype_backend,\n\u001b[0;32m    945\u001b[0m )\n\u001b[0;32m    946\u001b[0m kwds\u001b[38;5;241m.\u001b[39mupdate(kwds_defaults)\n\u001b[1;32m--> 948\u001b[0m \u001b[38;5;28;01mreturn\u001b[39;00m _read(filepath_or_buffer, kwds)\n",
      "File \u001b[1;32mc:\\ProgramData\\Anaconda3\\Lib\\site-packages\\pandas\\io\\parsers\\readers.py:611\u001b[0m, in \u001b[0;36m_read\u001b[1;34m(filepath_or_buffer, kwds)\u001b[0m\n\u001b[0;32m    608\u001b[0m _validate_names(kwds\u001b[38;5;241m.\u001b[39mget(\u001b[38;5;124m\"\u001b[39m\u001b[38;5;124mnames\u001b[39m\u001b[38;5;124m\"\u001b[39m, \u001b[38;5;28;01mNone\u001b[39;00m))\n\u001b[0;32m    610\u001b[0m \u001b[38;5;66;03m# Create the parser.\u001b[39;00m\n\u001b[1;32m--> 611\u001b[0m parser \u001b[38;5;241m=\u001b[39m TextFileReader(filepath_or_buffer, \u001b[38;5;241m*\u001b[39m\u001b[38;5;241m*\u001b[39mkwds)\n\u001b[0;32m    613\u001b[0m \u001b[38;5;28;01mif\u001b[39;00m chunksize \u001b[38;5;129;01mor\u001b[39;00m iterator:\n\u001b[0;32m    614\u001b[0m     \u001b[38;5;28;01mreturn\u001b[39;00m parser\n",
      "File \u001b[1;32mc:\\ProgramData\\Anaconda3\\Lib\\site-packages\\pandas\\io\\parsers\\readers.py:1448\u001b[0m, in \u001b[0;36mTextFileReader.__init__\u001b[1;34m(self, f, engine, **kwds)\u001b[0m\n\u001b[0;32m   1445\u001b[0m     \u001b[38;5;28mself\u001b[39m\u001b[38;5;241m.\u001b[39moptions[\u001b[38;5;124m\"\u001b[39m\u001b[38;5;124mhas_index_names\u001b[39m\u001b[38;5;124m\"\u001b[39m] \u001b[38;5;241m=\u001b[39m kwds[\u001b[38;5;124m\"\u001b[39m\u001b[38;5;124mhas_index_names\u001b[39m\u001b[38;5;124m\"\u001b[39m]\n\u001b[0;32m   1447\u001b[0m \u001b[38;5;28mself\u001b[39m\u001b[38;5;241m.\u001b[39mhandles: IOHandles \u001b[38;5;241m|\u001b[39m \u001b[38;5;28;01mNone\u001b[39;00m \u001b[38;5;241m=\u001b[39m \u001b[38;5;28;01mNone\u001b[39;00m\n\u001b[1;32m-> 1448\u001b[0m \u001b[38;5;28mself\u001b[39m\u001b[38;5;241m.\u001b[39m_engine \u001b[38;5;241m=\u001b[39m \u001b[38;5;28mself\u001b[39m\u001b[38;5;241m.\u001b[39m_make_engine(f, \u001b[38;5;28mself\u001b[39m\u001b[38;5;241m.\u001b[39mengine)\n",
      "File \u001b[1;32mc:\\ProgramData\\Anaconda3\\Lib\\site-packages\\pandas\\io\\parsers\\readers.py:1705\u001b[0m, in \u001b[0;36mTextFileReader._make_engine\u001b[1;34m(self, f, engine)\u001b[0m\n\u001b[0;32m   1703\u001b[0m     \u001b[38;5;28;01mif\u001b[39;00m \u001b[38;5;124m\"\u001b[39m\u001b[38;5;124mb\u001b[39m\u001b[38;5;124m\"\u001b[39m \u001b[38;5;129;01mnot\u001b[39;00m \u001b[38;5;129;01min\u001b[39;00m mode:\n\u001b[0;32m   1704\u001b[0m         mode \u001b[38;5;241m+\u001b[39m\u001b[38;5;241m=\u001b[39m \u001b[38;5;124m\"\u001b[39m\u001b[38;5;124mb\u001b[39m\u001b[38;5;124m\"\u001b[39m\n\u001b[1;32m-> 1705\u001b[0m \u001b[38;5;28mself\u001b[39m\u001b[38;5;241m.\u001b[39mhandles \u001b[38;5;241m=\u001b[39m get_handle(\n\u001b[0;32m   1706\u001b[0m     f,\n\u001b[0;32m   1707\u001b[0m     mode,\n\u001b[0;32m   1708\u001b[0m     encoding\u001b[38;5;241m=\u001b[39m\u001b[38;5;28mself\u001b[39m\u001b[38;5;241m.\u001b[39moptions\u001b[38;5;241m.\u001b[39mget(\u001b[38;5;124m\"\u001b[39m\u001b[38;5;124mencoding\u001b[39m\u001b[38;5;124m\"\u001b[39m, \u001b[38;5;28;01mNone\u001b[39;00m),\n\u001b[0;32m   1709\u001b[0m     compression\u001b[38;5;241m=\u001b[39m\u001b[38;5;28mself\u001b[39m\u001b[38;5;241m.\u001b[39moptions\u001b[38;5;241m.\u001b[39mget(\u001b[38;5;124m\"\u001b[39m\u001b[38;5;124mcompression\u001b[39m\u001b[38;5;124m\"\u001b[39m, \u001b[38;5;28;01mNone\u001b[39;00m),\n\u001b[0;32m   1710\u001b[0m     memory_map\u001b[38;5;241m=\u001b[39m\u001b[38;5;28mself\u001b[39m\u001b[38;5;241m.\u001b[39moptions\u001b[38;5;241m.\u001b[39mget(\u001b[38;5;124m\"\u001b[39m\u001b[38;5;124mmemory_map\u001b[39m\u001b[38;5;124m\"\u001b[39m, \u001b[38;5;28;01mFalse\u001b[39;00m),\n\u001b[0;32m   1711\u001b[0m     is_text\u001b[38;5;241m=\u001b[39mis_text,\n\u001b[0;32m   1712\u001b[0m     errors\u001b[38;5;241m=\u001b[39m\u001b[38;5;28mself\u001b[39m\u001b[38;5;241m.\u001b[39moptions\u001b[38;5;241m.\u001b[39mget(\u001b[38;5;124m\"\u001b[39m\u001b[38;5;124mencoding_errors\u001b[39m\u001b[38;5;124m\"\u001b[39m, \u001b[38;5;124m\"\u001b[39m\u001b[38;5;124mstrict\u001b[39m\u001b[38;5;124m\"\u001b[39m),\n\u001b[0;32m   1713\u001b[0m     storage_options\u001b[38;5;241m=\u001b[39m\u001b[38;5;28mself\u001b[39m\u001b[38;5;241m.\u001b[39moptions\u001b[38;5;241m.\u001b[39mget(\u001b[38;5;124m\"\u001b[39m\u001b[38;5;124mstorage_options\u001b[39m\u001b[38;5;124m\"\u001b[39m, \u001b[38;5;28;01mNone\u001b[39;00m),\n\u001b[0;32m   1714\u001b[0m )\n\u001b[0;32m   1715\u001b[0m \u001b[38;5;28;01massert\u001b[39;00m \u001b[38;5;28mself\u001b[39m\u001b[38;5;241m.\u001b[39mhandles \u001b[38;5;129;01mis\u001b[39;00m \u001b[38;5;129;01mnot\u001b[39;00m \u001b[38;5;28;01mNone\u001b[39;00m\n\u001b[0;32m   1716\u001b[0m f \u001b[38;5;241m=\u001b[39m \u001b[38;5;28mself\u001b[39m\u001b[38;5;241m.\u001b[39mhandles\u001b[38;5;241m.\u001b[39mhandle\n",
      "File \u001b[1;32mc:\\ProgramData\\Anaconda3\\Lib\\site-packages\\pandas\\io\\common.py:863\u001b[0m, in \u001b[0;36mget_handle\u001b[1;34m(path_or_buf, mode, encoding, compression, memory_map, is_text, errors, storage_options)\u001b[0m\n\u001b[0;32m    858\u001b[0m \u001b[38;5;28;01melif\u001b[39;00m \u001b[38;5;28misinstance\u001b[39m(handle, \u001b[38;5;28mstr\u001b[39m):\n\u001b[0;32m    859\u001b[0m     \u001b[38;5;66;03m# Check whether the filename is to be opened in binary mode.\u001b[39;00m\n\u001b[0;32m    860\u001b[0m     \u001b[38;5;66;03m# Binary mode does not support 'encoding' and 'newline'.\u001b[39;00m\n\u001b[0;32m    861\u001b[0m     \u001b[38;5;28;01mif\u001b[39;00m ioargs\u001b[38;5;241m.\u001b[39mencoding \u001b[38;5;129;01mand\u001b[39;00m \u001b[38;5;124m\"\u001b[39m\u001b[38;5;124mb\u001b[39m\u001b[38;5;124m\"\u001b[39m \u001b[38;5;129;01mnot\u001b[39;00m \u001b[38;5;129;01min\u001b[39;00m ioargs\u001b[38;5;241m.\u001b[39mmode:\n\u001b[0;32m    862\u001b[0m         \u001b[38;5;66;03m# Encoding\u001b[39;00m\n\u001b[1;32m--> 863\u001b[0m         handle \u001b[38;5;241m=\u001b[39m \u001b[38;5;28mopen\u001b[39m(\n\u001b[0;32m    864\u001b[0m             handle,\n\u001b[0;32m    865\u001b[0m             ioargs\u001b[38;5;241m.\u001b[39mmode,\n\u001b[0;32m    866\u001b[0m             encoding\u001b[38;5;241m=\u001b[39mioargs\u001b[38;5;241m.\u001b[39mencoding,\n\u001b[0;32m    867\u001b[0m             errors\u001b[38;5;241m=\u001b[39merrors,\n\u001b[0;32m    868\u001b[0m             newline\u001b[38;5;241m=\u001b[39m\u001b[38;5;124m\"\u001b[39m\u001b[38;5;124m\"\u001b[39m,\n\u001b[0;32m    869\u001b[0m         )\n\u001b[0;32m    870\u001b[0m     \u001b[38;5;28;01melse\u001b[39;00m:\n\u001b[0;32m    871\u001b[0m         \u001b[38;5;66;03m# Binary mode\u001b[39;00m\n\u001b[0;32m    872\u001b[0m         handle \u001b[38;5;241m=\u001b[39m \u001b[38;5;28mopen\u001b[39m(handle, ioargs\u001b[38;5;241m.\u001b[39mmode)\n",
      "\u001b[1;31mFileNotFoundError\u001b[0m: [Errno 2] No such file or directory: 'Iris.csv'"
     ]
    }
   ],
   "source": [
    "import pandas as pd\n",
    "\n",
    "df=pd.read_csv('Iris.csv')\n",
    "\n",
    "x = df.drop(['Id','Species'], axis=1)\n",
    "y=df['Species']"
   ]
  },
  {
   "cell_type": "code",
   "execution_count": null,
   "id": "37ef0955",
   "metadata": {},
   "outputs": [],
   "source": [
    "df"
   ]
  },
  {
   "cell_type": "code",
   "execution_count": 255,
   "id": "0b9f4efb-0a06-4d41-b587-9fac4f837541",
   "metadata": {},
   "outputs": [],
   "source": [
    "import numpy as np\n",
    "from sklearn.preprocessing import LabelEncoder\n",
    "label_encoder = LabelEncoder()\n",
    "encoded_labels = label_encoder.fit_transform(y)\n",
    "\n",
    "from sklearn.model_selection import train_test_split\n",
    "x_train,x_test,y_train,y_test=train_test_split(x,encoded_labels,test_size=0.2,random_state=62)\n",
    "\n",
    "from tensorflow.keras.utils import to_categorical\n",
    "\n",
    "labels = np.array(y_train)\n",
    "y_train = to_categorical(labels)\n",
    "y_train=np.array(y_train)"
   ]
  },
  {
   "cell_type": "code",
   "execution_count": 244,
   "id": "737d5d4a-9b12-436f-b441-3ff714f27cfe",
   "metadata": {},
   "outputs": [],
   "source": [
    "x_train=x_train.values\n",
    "x_train=np.array(x_train)\n",
    "x_train=x_train.T\n",
    "x_test=x_test.values"
   ]
  },
  {
   "cell_type": "code",
   "execution_count": 245,
   "id": "3408c98a-2b41-460d-a111-5a1908d58bbd",
   "metadata": {},
   "outputs": [
    {
     "name": "stdout",
     "output_type": "stream",
     "text": [
      "Error at 0 epoch :  77.38880130345308\n",
      "Error at 1000 epoch :  10.090065866692031\n",
      "Error at 2000 epoch :  9.27301611955386\n",
      "Error at 3000 epoch :  7.278048796076046\n",
      "Error at 4000 epoch :  6.018395540878682\n",
      "Error at 5000 epoch :  5.231747593925679\n",
      "Error at 6000 epoch :  4.754893665861987\n",
      "Error at 7000 epoch :  4.4602732597507675\n",
      "Error at 8000 epoch :  4.167090813240749\n",
      "Error at 9000 epoch :  3.818712310737296\n",
      "Error at 10000 epoch :  3.540744923877782\n",
      "Error at 11000 epoch :  3.450547438871256\n",
      "Error at 12000 epoch :  3.542934530553627\n",
      "Error at 13000 epoch :  3.685115680636752\n",
      "Error at 14000 epoch :  3.723618442165748\n",
      "Error at 15000 epoch :  3.593160969326122\n",
      "Error at 16000 epoch :  3.356656881189017\n",
      "Error at 17000 epoch :  2.754131088754937\n",
      "Error at 18000 epoch :  2.3326832616868494\n",
      "Error at 19000 epoch :  2.0063344339631106\n",
      "Error at 20000 epoch :  1.7627996791253417\n",
      "Error at 21000 epoch :  1.5812313782506653\n",
      "Error at 22000 epoch :  1.4433155344544768\n",
      "Error at 23000 epoch :  1.3360894693037109\n",
      "Error at 24000 epoch :  1.2506985345012624\n",
      "Error at 25000 epoch :  1.181067777710315\n",
      "Error at 26000 epoch :  1.1230042673464624\n",
      "Error at 27000 epoch :  1.0735971075397992\n",
      "Error at 28000 epoch :  1.030806001565474\n",
      "Error at 29000 epoch :  0.9931791891573912\n",
      "Error at 30000 epoch :  0.9596632771410678\n",
      "Error at 31000 epoch :  0.9294775918528445\n",
      "Error at 32000 epoch :  0.902032809285876\n",
      "Error at 33000 epoch :  0.8768794734643861\n",
      "Error at 34000 epoch :  0.8536764490216102\n",
      "Error at 35000 epoch :  0.8321722369673283\n",
      "Error at 36000 epoch :  0.8121936430831935\n",
      "Error at 37000 epoch :  0.7936371223965935\n",
      "Error at 38000 epoch :  0.7764590261469164\n",
      "Error at 39000 epoch :  0.7606624864606073\n",
      "Error at 40000 epoch :  0.7462806433934399\n",
      "Error at 41000 epoch :  0.7333577281565296\n",
      "Error at 42000 epoch :  0.7219306562205117\n",
      "Error at 43000 epoch :  0.7120140261302181\n",
      "Error at 44000 epoch :  0.7035907102499473\n",
      "Error at 45000 epoch :  0.6966087988070234\n",
      "Error at 46000 epoch :  0.6909840981736899\n",
      "Error at 47000 epoch :  0.6866063212178319\n",
      "Error at 48000 epoch :  0.6833468575441426\n",
      "Error at 49000 epoch :  0.6810664489776905\n",
      "Error at 50000 epoch :  0.6796218369807634\n",
      "Error at 51000 epoch :  0.6788711305851948\n",
      "Error at 52000 epoch :  0.6786780665720785\n",
      "Error at 53000 epoch :  0.6789154589966973\n",
      "Error at 54000 epoch :  0.679468037464361\n",
      "Error at 55000 epoch :  0.6802346895457871\n",
      "Error at 56000 epoch :  0.6811299848602306\n",
      "Error at 57000 epoch :  0.6820848357540622\n",
      "Error at 58000 epoch :  0.6830462321972952\n",
      "Error at 59000 epoch :  0.6839761176690562\n",
      "Error at 60000 epoch :  0.6848495860192786\n",
      "Error at 61000 epoch :  0.6856526405627246\n",
      "Error at 62000 epoch :  0.6863797615412356\n",
      "Error at 63000 epoch :  0.6870314926109379\n",
      "Error at 64000 epoch :  0.6876122030651217\n",
      "Error at 65000 epoch :  0.6881281278401878\n",
      "Error at 66000 epoch :  0.6885857418782998\n",
      "Error at 67000 epoch :  0.6889904920121169\n",
      "Error at 68000 epoch :  0.6893458866945951\n",
      "Error at 69000 epoch :  0.6896529284068282\n",
      "Error at 70000 epoch :  0.689909862363868\n",
      "Error at 71000 epoch :  0.6901122061312268\n",
      "Error at 72000 epoch :  0.6902530170865113\n",
      "Error at 73000 epoch :  0.690323348330496\n",
      "Error at 74000 epoch :  0.6903128392010394\n",
      "Error at 75000 epoch :  0.6902103845701099\n",
      "Error at 76000 epoch :  0.6900048280249559\n",
      "Error at 77000 epoch :  0.6896856279527179\n",
      "Error at 78000 epoch :  0.689243452230066\n",
      "Error at 79000 epoch :  0.6886706662142678\n",
      "Error at 80000 epoch :  0.6879616894074092\n",
      "Error at 81000 epoch :  0.6871132078095377\n",
      "Error at 82000 epoch :  0.6861242408110471\n",
      "Error at 83000 epoch :  0.6849960726346555\n",
      "Error at 84000 epoch :  0.6837320679462898\n",
      "Error at 85000 epoch :  0.6823373984570237\n",
      "Error at 86000 epoch :  0.6808187114674187\n",
      "Error at 87000 epoch :  0.6791837720197789\n",
      "Error at 88000 epoch :  0.6774411077460749\n",
      "Error at 89000 epoch :  0.6755996802389483\n",
      "Error at 90000 epoch :  0.6736685997993969\n",
      "Error at 91000 epoch :  0.6716568929091762\n",
      "Error at 92000 epoch :  0.669573324817359\n",
      "Error at 93000 epoch :  0.6674262740574237\n",
      "Error at 94000 epoch :  0.6652236519497352\n",
      "Error at 95000 epoch :  0.6629728582409984\n",
      "Error at 96000 epoch :  0.6606807637179959\n",
      "Error at 97000 epoch :  0.6583537114706147\n",
      "Error at 98000 epoch :  0.6559975299704566\n",
      "Error at 99000 epoch :  0.6536175528637115\n"
     ]
    }
   ],
   "source": [
    "epochs=100000\n",
    "model.train(x_train,y_train,epochs)"
   ]
  },
  {
   "cell_type": "code",
   "execution_count": 246,
   "id": "8777ae61-b0a7-4d53-b67c-03a098c96921",
   "metadata": {},
   "outputs": [
    {
     "name": "stdout",
     "output_type": "stream",
     "text": [
      "[[1.69006391e-04]\n",
      " [2.35325579e-02]\n",
      " [9.85471641e-01]]\n"
     ]
    }
   ],
   "source": [
    "hh=model.forward([[6.7],[3.0],[5.2],[2.3]])\n",
    "print(hh[-1])"
   ]
  },
  {
   "cell_type": "code",
   "execution_count": 247,
   "id": "99095d2b-561f-4f1c-8db7-ceba28fd3492",
   "metadata": {},
   "outputs": [],
   "source": [
    "test_sample=[]\n",
    "for i in x_test:\n",
    "    test_sample.append([[x] for x in i.tolist()])"
   ]
  },
  {
   "cell_type": "code",
   "execution_count": 248,
   "id": "73990906-ddc6-4cfd-9555-68dcd7053572",
   "metadata": {},
   "outputs": [],
   "source": [
    "y_pred=model.predict(test_sample)\n",
    "y_pred = np.hstack([np.argmax(arr, axis=0) for arr in y_pred]).flatten()"
   ]
  },
  {
   "cell_type": "code",
   "execution_count": 249,
   "id": "28b030a9-750a-443a-b01d-1ea8d5f367ba",
   "metadata": {},
   "outputs": [
    {
     "name": "stdout",
     "output_type": "stream",
     "text": [
      "[2 2 0 0 2 1 2 0 1 1 2 2 0 1 1 1 0 1 0 0 0 0 2 1 2 0 2 0 2 0]\n"
     ]
    }
   ],
   "source": [
    "print(y_test)"
   ]
  },
  {
   "cell_type": "code",
   "execution_count": 250,
   "id": "a2b5513a-8616-44b8-8652-588ca04ab233",
   "metadata": {},
   "outputs": [
    {
     "name": "stdout",
     "output_type": "stream",
     "text": [
      "[2 2 0 0 2 2 2 0 1 1 2 2 0 1 1 1 0 1 0 0 0 0 2 1 2 0 2 0 2 0]\n"
     ]
    }
   ],
   "source": [
    "print(y_pred)"
   ]
  },
  {
   "cell_type": "code",
   "execution_count": 251,
   "id": "275dca7c-9ae8-40e1-9738-6a57b68d5e80",
   "metadata": {},
   "outputs": [
    {
     "name": "stdout",
     "output_type": "stream",
     "text": [
      "Accuracy: 0.9666666666666667\n",
      "Precision: 0.9696969696969696\n",
      "Recall: 0.9666666666666667\n",
      "F1-score: 0.9663492063492065\n"
     ]
    }
   ],
   "source": [
    "from sklearn.metrics import accuracy_score,f1_score,precision_score,recall_score,confusion_matrix\n",
    "accuracy=accuracy_score(y_test,y_pred)\n",
    "precision=precision_score(y_test,y_pred,average='weighted')\n",
    "recall=recall_score(y_test,y_pred,average='weighted')\n",
    "f1score=f1_score(y_test,y_pred,average='weighted')\n",
    "print(\"Accuracy:\", accuracy)\n",
    "print(\"Precision:\", precision)\n",
    "print(\"Recall:\", recall)\n",
    "print(\"F1-score:\", f1score)"
   ]
  },
  {
   "cell_type": "code",
   "execution_count": null,
   "id": "c935f300-1fc4-42b7-8974-1a9d8eb5833f",
   "metadata": {},
   "outputs": [],
   "source": []
  }
 ],
 "metadata": {
  "kernelspec": {
   "display_name": "Python 3 (ipykernel)",
   "language": "python",
   "name": "python3"
  },
  "language_info": {
   "codemirror_mode": {
    "name": "ipython",
    "version": 3
   },
   "file_extension": ".py",
   "mimetype": "text/x-python",
   "name": "python",
   "nbconvert_exporter": "python",
   "pygments_lexer": "ipython3",
   "version": "3.9.13"
  }
 },
 "nbformat": 4,
 "nbformat_minor": 5
}
